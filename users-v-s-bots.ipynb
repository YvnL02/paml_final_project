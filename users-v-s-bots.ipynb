{
 "cells": [
  {
   "cell_type": "code",
   "execution_count": 1,
   "id": "00fac2ac",
   "metadata": {
    "_cell_guid": "b1076dfc-b9ad-4769-8c92-a6c4dae69d19",
    "_uuid": "8f2839f25d086af736a60e9eeb907d3b93b6e0e5",
    "execution": {
     "iopub.execute_input": "2025-04-10T18:19:43.480715Z",
     "iopub.status.busy": "2025-04-10T18:19:43.480293Z",
     "iopub.status.idle": "2025-04-10T18:19:45.442535Z",
     "shell.execute_reply": "2025-04-10T18:19:45.441580Z"
    },
    "papermill": {
     "duration": 1.968885,
     "end_time": "2025-04-10T18:19:45.444119",
     "exception": false,
     "start_time": "2025-04-10T18:19:43.475234",
     "status": "completed"
    },
    "tags": []
   },
   "outputs": [
    {
     "name": "stdout",
     "output_type": "stream",
     "text": [
      "/kaggle/input/users-vs-bots-classification/bots_vs_users.csv\n"
     ]
    }
   ],
   "source": [
    "# This Python 3 environment comes with many helpful analytics libraries installed\n",
    "# It is defined by the kaggle/python Docker image: https://github.com/kaggle/docker-python\n",
    "# For example, here's several helpful packages to load\n",
    "\n",
    "import numpy as np # linear algebra\n",
    "import pandas as pd # data processing, CSV file I/O (e.g. pd.read_csv)\n",
    "\n",
    "# Input data files are available in the read-only \"../input/\" directory\n",
    "# For example, running this (by clicking run or pressing Shift+Enter) will list all files under the input directory\n",
    "\n",
    "import os\n",
    "for dirname, _, filenames in os.walk('/kaggle/input'):\n",
    "    for filename in filenames:\n",
    "        print(os.path.join(dirname, filename))\n",
    "\n",
    "# You can write up to 20GB to the current directory (/kaggle/working/) that gets preserved as output when you create a version using \"Save & Run All\" \n",
    "# You can also write temporary files to /kaggle/temp/, but they won't be saved outside of the current session"
   ]
  },
  {
   "cell_type": "code",
   "execution_count": 2,
   "id": "7b84a9a2",
   "metadata": {
    "execution": {
     "iopub.execute_input": "2025-04-10T18:19:45.453230Z",
     "iopub.status.busy": "2025-04-10T18:19:45.452274Z",
     "iopub.status.idle": "2025-04-10T18:19:48.311610Z",
     "shell.execute_reply": "2025-04-10T18:19:48.310604Z"
    },
    "papermill": {
     "duration": 2.86529,
     "end_time": "2025-04-10T18:19:48.313322",
     "exception": false,
     "start_time": "2025-04-10T18:19:45.448032",
     "status": "completed"
    },
    "tags": []
   },
   "outputs": [],
   "source": [
    "#Import libraries\n",
    "import pandas as pd \n",
    "import numpy as np\n",
    "\n",
    "import seaborn as sns\n",
    "import matplotlib.pyplot as plt\n",
    "\n",
    "from catboost import CatBoostClassifier, Pool\n",
    "from sklearn.model_selection import train_test_split"
   ]
  },
  {
   "cell_type": "code",
   "execution_count": 3,
   "id": "93e41d53",
   "metadata": {
    "execution": {
     "iopub.execute_input": "2025-04-10T18:19:48.321222Z",
     "iopub.status.busy": "2025-04-10T18:19:48.320791Z",
     "iopub.status.idle": "2025-04-10T18:19:48.687263Z",
     "shell.execute_reply": "2025-04-10T18:19:48.686193Z"
    },
    "papermill": {
     "duration": 0.372269,
     "end_time": "2025-04-10T18:19:48.688990",
     "exception": false,
     "start_time": "2025-04-10T18:19:48.316721",
     "status": "completed"
    },
    "tags": []
   },
   "outputs": [],
   "source": [
    "import kagglehub\n",
    "\n",
    "\n",
    "\n",
    "df = pd.read_csv('/kaggle/input/users-vs-bots-classification/bots_vs_users.csv')"
   ]
  },
  {
   "cell_type": "code",
   "execution_count": 4,
   "id": "c5440020",
   "metadata": {
    "execution": {
     "iopub.execute_input": "2025-04-10T18:19:48.697087Z",
     "iopub.status.busy": "2025-04-10T18:19:48.696781Z",
     "iopub.status.idle": "2025-04-10T18:19:48.703616Z",
     "shell.execute_reply": "2025-04-10T18:19:48.702581Z"
    },
    "papermill": {
     "duration": 0.012669,
     "end_time": "2025-04-10T18:19:48.705250",
     "exception": false,
     "start_time": "2025-04-10T18:19:48.692581",
     "status": "completed"
    },
    "tags": []
   },
   "outputs": [],
   "source": [
    "def prepare_train(df):\n",
    "    #Replace words which mean 'Nan'\n",
    "    df = df.replace('Unknown', np.nan)\n",
    "    #drop features that have less information than 50%\n",
    "    df = df.loc[:, df.isna().mean() <= 0.5]\n",
    "    #NaN-target encoding, replace NaN by target\n",
    "    df = df.apply(lambda col: col.fillna(df['target']) if col.name != 'target' else col)\n",
    "    #Many features is non-numeric, but contains only int or float -> convert them into numeric\n",
    "    for col in df.columns:\n",
    "        converted = pd.to_numeric(df[col], errors='coerce')\n",
    "        if not converted.isna().any():\n",
    "            df[col] = converted\n",
    "    #categorial features list for catboost\n",
    "    cat_cols = df.select_dtypes(include='object').columns[0]\n",
    "    #transform categorial features from 'object' to 'category' type \n",
    "    df[cat_cols] = df[cat_cols].astype('category')\n",
    "    return df, cat_cols  "
   ]
  },
  {
   "cell_type": "code",
   "execution_count": 5,
   "id": "75f16f96",
   "metadata": {
    "execution": {
     "iopub.execute_input": "2025-04-10T18:19:48.713230Z",
     "iopub.status.busy": "2025-04-10T18:19:48.712905Z",
     "iopub.status.idle": "2025-04-10T18:19:48.838270Z",
     "shell.execute_reply": "2025-04-10T18:19:48.837273Z"
    },
    "papermill": {
     "duration": 0.131161,
     "end_time": "2025-04-10T18:19:48.840076",
     "exception": false,
     "start_time": "2025-04-10T18:19:48.708915",
     "status": "completed"
    },
    "tags": []
   },
   "outputs": [],
   "source": [
    "#Apply preparing function\n",
    "df, cat_cols = prepare_train(df)"
   ]
  },
  {
   "cell_type": "code",
   "execution_count": 6,
   "id": "28f5e02c",
   "metadata": {
    "execution": {
     "iopub.execute_input": "2025-04-10T18:19:48.849186Z",
     "iopub.status.busy": "2025-04-10T18:19:48.848857Z",
     "iopub.status.idle": "2025-04-10T18:19:48.898581Z",
     "shell.execute_reply": "2025-04-10T18:19:48.897618Z"
    },
    "papermill": {
     "duration": 0.056918,
     "end_time": "2025-04-10T18:19:48.900315",
     "exception": false,
     "start_time": "2025-04-10T18:19:48.843397",
     "status": "completed"
    },
    "tags": []
   },
   "outputs": [
    {
     "data": {
      "text/html": [
       "<div>\n",
       "<style scoped>\n",
       "    .dataframe tbody tr th:only-of-type {\n",
       "        vertical-align: middle;\n",
       "    }\n",
       "\n",
       "    .dataframe tbody tr th {\n",
       "        vertical-align: top;\n",
       "    }\n",
       "\n",
       "    .dataframe thead th {\n",
       "        text-align: right;\n",
       "    }\n",
       "</style>\n",
       "<table border=\"1\" class=\"dataframe\">\n",
       "  <thead>\n",
       "    <tr style=\"text-align: right;\">\n",
       "      <th></th>\n",
       "      <th>has_domain</th>\n",
       "      <th>has_birth_date</th>\n",
       "      <th>has_photo</th>\n",
       "      <th>can_post_on_wall</th>\n",
       "      <th>can_send_message</th>\n",
       "      <th>has_website</th>\n",
       "      <th>gender</th>\n",
       "      <th>has_short_name</th>\n",
       "      <th>has_first_name</th>\n",
       "      <th>has_last_name</th>\n",
       "      <th>...</th>\n",
       "      <th>has_nickname</th>\n",
       "      <th>has_mobile</th>\n",
       "      <th>all_posts_visible</th>\n",
       "      <th>audio_available</th>\n",
       "      <th>can_add_as_friend</th>\n",
       "      <th>can_invite_to_group</th>\n",
       "      <th>is_blacklisted</th>\n",
       "      <th>is_verified</th>\n",
       "      <th>is_confirmed</th>\n",
       "      <th>city</th>\n",
       "    </tr>\n",
       "  </thead>\n",
       "  <tbody>\n",
       "    <tr>\n",
       "      <th>0</th>\n",
       "      <td>1.0</td>\n",
       "      <td>1.0</td>\n",
       "      <td>0.0</td>\n",
       "      <td>0.0</td>\n",
       "      <td>0.0</td>\n",
       "      <td>0.0</td>\n",
       "      <td>1.0</td>\n",
       "      <td>1.0</td>\n",
       "      <td>1.0</td>\n",
       "      <td>1.0</td>\n",
       "      <td>...</td>\n",
       "      <td>1.0</td>\n",
       "      <td>1.0</td>\n",
       "      <td>1.0</td>\n",
       "      <td>1.0</td>\n",
       "      <td>1.0</td>\n",
       "      <td>1.0</td>\n",
       "      <td>1.0</td>\n",
       "      <td>1.0</td>\n",
       "      <td>1.0</td>\n",
       "      <td>1</td>\n",
       "    </tr>\n",
       "    <tr>\n",
       "      <th>1</th>\n",
       "      <td>1.0</td>\n",
       "      <td>1.0</td>\n",
       "      <td>0.0</td>\n",
       "      <td>0.0</td>\n",
       "      <td>0.0</td>\n",
       "      <td>0.0</td>\n",
       "      <td>1.0</td>\n",
       "      <td>1.0</td>\n",
       "      <td>1.0</td>\n",
       "      <td>1.0</td>\n",
       "      <td>...</td>\n",
       "      <td>1.0</td>\n",
       "      <td>1.0</td>\n",
       "      <td>1.0</td>\n",
       "      <td>1.0</td>\n",
       "      <td>1.0</td>\n",
       "      <td>1.0</td>\n",
       "      <td>1.0</td>\n",
       "      <td>1.0</td>\n",
       "      <td>1.0</td>\n",
       "      <td>1</td>\n",
       "    </tr>\n",
       "    <tr>\n",
       "      <th>2</th>\n",
       "      <td>1.0</td>\n",
       "      <td>1.0</td>\n",
       "      <td>0.0</td>\n",
       "      <td>0.0</td>\n",
       "      <td>0.0</td>\n",
       "      <td>0.0</td>\n",
       "      <td>1.0</td>\n",
       "      <td>1.0</td>\n",
       "      <td>1.0</td>\n",
       "      <td>1.0</td>\n",
       "      <td>...</td>\n",
       "      <td>1.0</td>\n",
       "      <td>1.0</td>\n",
       "      <td>1.0</td>\n",
       "      <td>1.0</td>\n",
       "      <td>1.0</td>\n",
       "      <td>1.0</td>\n",
       "      <td>1.0</td>\n",
       "      <td>1.0</td>\n",
       "      <td>1.0</td>\n",
       "      <td>1</td>\n",
       "    </tr>\n",
       "    <tr>\n",
       "      <th>3</th>\n",
       "      <td>1.0</td>\n",
       "      <td>1.0</td>\n",
       "      <td>0.0</td>\n",
       "      <td>0.0</td>\n",
       "      <td>0.0</td>\n",
       "      <td>0.0</td>\n",
       "      <td>1.0</td>\n",
       "      <td>1.0</td>\n",
       "      <td>1.0</td>\n",
       "      <td>1.0</td>\n",
       "      <td>...</td>\n",
       "      <td>1.0</td>\n",
       "      <td>1.0</td>\n",
       "      <td>1.0</td>\n",
       "      <td>1.0</td>\n",
       "      <td>1.0</td>\n",
       "      <td>1.0</td>\n",
       "      <td>1.0</td>\n",
       "      <td>1.0</td>\n",
       "      <td>1.0</td>\n",
       "      <td>1</td>\n",
       "    </tr>\n",
       "    <tr>\n",
       "      <th>4</th>\n",
       "      <td>1.0</td>\n",
       "      <td>1.0</td>\n",
       "      <td>0.0</td>\n",
       "      <td>0.0</td>\n",
       "      <td>0.0</td>\n",
       "      <td>0.0</td>\n",
       "      <td>1.0</td>\n",
       "      <td>1.0</td>\n",
       "      <td>1.0</td>\n",
       "      <td>1.0</td>\n",
       "      <td>...</td>\n",
       "      <td>1.0</td>\n",
       "      <td>1.0</td>\n",
       "      <td>1.0</td>\n",
       "      <td>1.0</td>\n",
       "      <td>1.0</td>\n",
       "      <td>1.0</td>\n",
       "      <td>1.0</td>\n",
       "      <td>1.0</td>\n",
       "      <td>1.0</td>\n",
       "      <td>1</td>\n",
       "    </tr>\n",
       "    <tr>\n",
       "      <th>...</th>\n",
       "      <td>...</td>\n",
       "      <td>...</td>\n",
       "      <td>...</td>\n",
       "      <td>...</td>\n",
       "      <td>...</td>\n",
       "      <td>...</td>\n",
       "      <td>...</td>\n",
       "      <td>...</td>\n",
       "      <td>...</td>\n",
       "      <td>...</td>\n",
       "      <td>...</td>\n",
       "      <td>...</td>\n",
       "      <td>...</td>\n",
       "      <td>...</td>\n",
       "      <td>...</td>\n",
       "      <td>...</td>\n",
       "      <td>...</td>\n",
       "      <td>...</td>\n",
       "      <td>...</td>\n",
       "      <td>...</td>\n",
       "      <td>...</td>\n",
       "    </tr>\n",
       "    <tr>\n",
       "      <th>5869</th>\n",
       "      <td>1.0</td>\n",
       "      <td>1.0</td>\n",
       "      <td>1.0</td>\n",
       "      <td>0.0</td>\n",
       "      <td>0.0</td>\n",
       "      <td>0.0</td>\n",
       "      <td>2.0</td>\n",
       "      <td>1.0</td>\n",
       "      <td>1.0</td>\n",
       "      <td>1.0</td>\n",
       "      <td>...</td>\n",
       "      <td>0.0</td>\n",
       "      <td>1.0</td>\n",
       "      <td>0.0</td>\n",
       "      <td>0.0</td>\n",
       "      <td>0.0</td>\n",
       "      <td>0.0</td>\n",
       "      <td>0.0</td>\n",
       "      <td>0.0</td>\n",
       "      <td>0.0</td>\n",
       "      <td>Saint Petersburg</td>\n",
       "    </tr>\n",
       "    <tr>\n",
       "      <th>5870</th>\n",
       "      <td>1.0</td>\n",
       "      <td>0.0</td>\n",
       "      <td>1.0</td>\n",
       "      <td>0.0</td>\n",
       "      <td>0.0</td>\n",
       "      <td>0.0</td>\n",
       "      <td>1.0</td>\n",
       "      <td>1.0</td>\n",
       "      <td>1.0</td>\n",
       "      <td>1.0</td>\n",
       "      <td>...</td>\n",
       "      <td>1.0</td>\n",
       "      <td>1.0</td>\n",
       "      <td>0.0</td>\n",
       "      <td>0.0</td>\n",
       "      <td>1.0</td>\n",
       "      <td>0.0</td>\n",
       "      <td>0.0</td>\n",
       "      <td>0.0</td>\n",
       "      <td>0.0</td>\n",
       "      <td>Saint Petersburg</td>\n",
       "    </tr>\n",
       "    <tr>\n",
       "      <th>5871</th>\n",
       "      <td>1.0</td>\n",
       "      <td>1.0</td>\n",
       "      <td>0.0</td>\n",
       "      <td>0.0</td>\n",
       "      <td>0.0</td>\n",
       "      <td>1.0</td>\n",
       "      <td>2.0</td>\n",
       "      <td>1.0</td>\n",
       "      <td>1.0</td>\n",
       "      <td>1.0</td>\n",
       "      <td>...</td>\n",
       "      <td>0.0</td>\n",
       "      <td>0.0</td>\n",
       "      <td>0.0</td>\n",
       "      <td>0.0</td>\n",
       "      <td>0.0</td>\n",
       "      <td>0.0</td>\n",
       "      <td>0.0</td>\n",
       "      <td>0.0</td>\n",
       "      <td>0.0</td>\n",
       "      <td>Saint Petersburg</td>\n",
       "    </tr>\n",
       "    <tr>\n",
       "      <th>5872</th>\n",
       "      <td>1.0</td>\n",
       "      <td>1.0</td>\n",
       "      <td>1.0</td>\n",
       "      <td>0.0</td>\n",
       "      <td>0.0</td>\n",
       "      <td>1.0</td>\n",
       "      <td>1.0</td>\n",
       "      <td>1.0</td>\n",
       "      <td>1.0</td>\n",
       "      <td>1.0</td>\n",
       "      <td>...</td>\n",
       "      <td>1.0</td>\n",
       "      <td>1.0</td>\n",
       "      <td>0.0</td>\n",
       "      <td>1.0</td>\n",
       "      <td>1.0</td>\n",
       "      <td>0.0</td>\n",
       "      <td>0.0</td>\n",
       "      <td>0.0</td>\n",
       "      <td>0.0</td>\n",
       "      <td>Moscow</td>\n",
       "    </tr>\n",
       "    <tr>\n",
       "      <th>5873</th>\n",
       "      <td>1.0</td>\n",
       "      <td>1.0</td>\n",
       "      <td>1.0</td>\n",
       "      <td>0.0</td>\n",
       "      <td>1.0</td>\n",
       "      <td>1.0</td>\n",
       "      <td>1.0</td>\n",
       "      <td>1.0</td>\n",
       "      <td>1.0</td>\n",
       "      <td>1.0</td>\n",
       "      <td>...</td>\n",
       "      <td>0.0</td>\n",
       "      <td>1.0</td>\n",
       "      <td>0.0</td>\n",
       "      <td>0.0</td>\n",
       "      <td>1.0</td>\n",
       "      <td>0.0</td>\n",
       "      <td>0.0</td>\n",
       "      <td>1.0</td>\n",
       "      <td>0.0</td>\n",
       "      <td>Saint Petersburg</td>\n",
       "    </tr>\n",
       "  </tbody>\n",
       "</table>\n",
       "<p>5874 rows × 23 columns</p>\n",
       "</div>"
      ],
      "text/plain": [
       "      has_domain  has_birth_date  has_photo  can_post_on_wall  \\\n",
       "0            1.0             1.0        0.0               0.0   \n",
       "1            1.0             1.0        0.0               0.0   \n",
       "2            1.0             1.0        0.0               0.0   \n",
       "3            1.0             1.0        0.0               0.0   \n",
       "4            1.0             1.0        0.0               0.0   \n",
       "...          ...             ...        ...               ...   \n",
       "5869         1.0             1.0        1.0               0.0   \n",
       "5870         1.0             0.0        1.0               0.0   \n",
       "5871         1.0             1.0        0.0               0.0   \n",
       "5872         1.0             1.0        1.0               0.0   \n",
       "5873         1.0             1.0        1.0               0.0   \n",
       "\n",
       "      can_send_message  has_website  gender  has_short_name  has_first_name  \\\n",
       "0                  0.0          0.0     1.0             1.0             1.0   \n",
       "1                  0.0          0.0     1.0             1.0             1.0   \n",
       "2                  0.0          0.0     1.0             1.0             1.0   \n",
       "3                  0.0          0.0     1.0             1.0             1.0   \n",
       "4                  0.0          0.0     1.0             1.0             1.0   \n",
       "...                ...          ...     ...             ...             ...   \n",
       "5869               0.0          0.0     2.0             1.0             1.0   \n",
       "5870               0.0          0.0     1.0             1.0             1.0   \n",
       "5871               0.0          1.0     2.0             1.0             1.0   \n",
       "5872               0.0          1.0     1.0             1.0             1.0   \n",
       "5873               1.0          1.0     1.0             1.0             1.0   \n",
       "\n",
       "      has_last_name  ...  has_nickname  has_mobile  all_posts_visible  \\\n",
       "0               1.0  ...           1.0         1.0                1.0   \n",
       "1               1.0  ...           1.0         1.0                1.0   \n",
       "2               1.0  ...           1.0         1.0                1.0   \n",
       "3               1.0  ...           1.0         1.0                1.0   \n",
       "4               1.0  ...           1.0         1.0                1.0   \n",
       "...             ...  ...           ...         ...                ...   \n",
       "5869            1.0  ...           0.0         1.0                0.0   \n",
       "5870            1.0  ...           1.0         1.0                0.0   \n",
       "5871            1.0  ...           0.0         0.0                0.0   \n",
       "5872            1.0  ...           1.0         1.0                0.0   \n",
       "5873            1.0  ...           0.0         1.0                0.0   \n",
       "\n",
       "      audio_available  can_add_as_friend  can_invite_to_group  is_blacklisted  \\\n",
       "0                 1.0                1.0                  1.0             1.0   \n",
       "1                 1.0                1.0                  1.0             1.0   \n",
       "2                 1.0                1.0                  1.0             1.0   \n",
       "3                 1.0                1.0                  1.0             1.0   \n",
       "4                 1.0                1.0                  1.0             1.0   \n",
       "...               ...                ...                  ...             ...   \n",
       "5869              0.0                0.0                  0.0             0.0   \n",
       "5870              0.0                1.0                  0.0             0.0   \n",
       "5871              0.0                0.0                  0.0             0.0   \n",
       "5872              1.0                1.0                  0.0             0.0   \n",
       "5873              0.0                1.0                  0.0             0.0   \n",
       "\n",
       "      is_verified  is_confirmed              city  \n",
       "0             1.0           1.0                 1  \n",
       "1             1.0           1.0                 1  \n",
       "2             1.0           1.0                 1  \n",
       "3             1.0           1.0                 1  \n",
       "4             1.0           1.0                 1  \n",
       "...           ...           ...               ...  \n",
       "5869          0.0           0.0  Saint Petersburg  \n",
       "5870          0.0           0.0  Saint Petersburg  \n",
       "5871          0.0           0.0  Saint Petersburg  \n",
       "5872          0.0           0.0            Moscow  \n",
       "5873          1.0           0.0  Saint Petersburg  \n",
       "\n",
       "[5874 rows x 23 columns]"
      ]
     },
     "execution_count": 6,
     "metadata": {},
     "output_type": "execute_result"
    }
   ],
   "source": [
    "df"
   ]
  },
  {
   "cell_type": "code",
   "execution_count": 7,
   "id": "df4b228a",
   "metadata": {
    "execution": {
     "iopub.execute_input": "2025-04-10T18:19:48.909231Z",
     "iopub.status.busy": "2025-04-10T18:19:48.908939Z",
     "iopub.status.idle": "2025-04-10T18:19:49.466816Z",
     "shell.execute_reply": "2025-04-10T18:19:49.465877Z"
    },
    "papermill": {
     "duration": 0.564343,
     "end_time": "2025-04-10T18:19:49.468606",
     "exception": false,
     "start_time": "2025-04-10T18:19:48.904263",
     "status": "completed"
    },
    "tags": []
   },
   "outputs": [
    {
     "name": "stderr",
     "output_type": "stream",
     "text": [
      "/usr/local/lib/python3.11/dist-packages/matplotlib/colors.py:721: RuntimeWarning: invalid value encountered in less\n",
      "  xa[xa < 0] = -1\n"
     ]
    },
    {
     "data": {
      "image/png": "[encoded data removed]",
      "text/plain": [
       "<Figure size 600x1100 with 2 Axes>"
      ]
     },
     "metadata": {},
     "output_type": "display_data"
    }
   ],
   "source": [
    "#Correlation matrix\n",
    "corr = df.corr(numeric_only=True)\n",
    "target_corr = corr[['target']].sort_values(by='target', ascending=False)\n",
    "plt.figure(figsize=(6, len(target_corr) * 0.5))\n",
    "sns.heatmap(target_corr, annot=True, cmap='coolwarm', center=0)\n",
    "\n",
    "plt.title(\"Target features corr\")\n",
    "plt.tight_layout()\n",
    "plt.show()"
   ]
  },
  {
   "cell_type": "code",
   "execution_count": 8,
   "id": "99dda9f6",
   "metadata": {
    "execution": {
     "iopub.execute_input": "2025-04-10T18:19:49.480695Z",
     "iopub.status.busy": "2025-04-10T18:19:49.480054Z",
     "iopub.status.idle": "2025-04-10T18:19:49.486942Z",
     "shell.execute_reply": "2025-04-10T18:19:49.485974Z"
    },
    "papermill": {
     "duration": 0.014762,
     "end_time": "2025-04-10T18:19:49.488788",
     "exception": false,
     "start_time": "2025-04-10T18:19:49.474026",
     "status": "completed"
    },
    "tags": []
   },
   "outputs": [],
   "source": [
    "#Target and train arrays\n",
    "X = df.drop('target', axis=1)\n",
    "y = df['target']"
   ]
  },
  {
   "cell_type": "code",
   "execution_count": 9,
   "id": "1c33a8a9",
   "metadata": {
    "execution": {
     "iopub.execute_input": "2025-04-10T18:19:49.500830Z",
     "iopub.status.busy": "2025-04-10T18:19:49.500210Z",
     "iopub.status.idle": "2025-04-10T18:19:49.511532Z",
     "shell.execute_reply": "2025-04-10T18:19:49.510544Z"
    },
    "papermill": {
     "duration": 0.01926,
     "end_time": "2025-04-10T18:19:49.513168",
     "exception": false,
     "start_time": "2025-04-10T18:19:49.493908",
     "status": "completed"
    },
    "tags": []
   },
   "outputs": [
    {
     "data": {
      "text/plain": [
       "target\n",
       "1    2937\n",
       "0    2937\n",
       "Name: count, dtype: int64"
      ]
     },
     "execution_count": 9,
     "metadata": {},
     "output_type": "execute_result"
    }
   ],
   "source": [
    "#Checking class-balance\n",
    "y.value_counts()"
   ]
  },
  {
   "cell_type": "code",
   "execution_count": 10,
   "id": "7d922b44",
   "metadata": {
    "execution": {
     "iopub.execute_input": "2025-04-10T18:19:49.524805Z",
     "iopub.status.busy": "2025-04-10T18:19:49.524462Z",
     "iopub.status.idle": "2025-04-10T18:19:49.536224Z",
     "shell.execute_reply": "2025-04-10T18:19:49.535437Z"
    },
    "papermill": {
     "duration": 0.019377,
     "end_time": "2025-04-10T18:19:49.537854",
     "exception": false,
     "start_time": "2025-04-10T18:19:49.518477",
     "status": "completed"
    },
    "tags": []
   },
   "outputs": [],
   "source": [
    "#Splitting train and test\n",
    "X_train, X_test, y_train, y_test = train_test_split(\n",
    "    X, y,\n",
    "    test_size=0.2,\n",
    "    random_state=42,\n",
    "    stratify=y  \n",
    ")"
   ]
  },
  {
   "cell_type": "code",
   "execution_count": 11,
   "id": "a4e1a6bb",
   "metadata": {
    "execution": {
     "iopub.execute_input": "2025-04-10T18:19:49.549452Z",
     "iopub.status.busy": "2025-04-10T18:19:49.548989Z",
     "iopub.status.idle": "2025-04-10T18:19:50.199082Z",
     "shell.execute_reply": "2025-04-10T18:19:50.198117Z"
    },
    "papermill": {
     "duration": 0.657833,
     "end_time": "2025-04-10T18:19:50.200834",
     "exception": false,
     "start_time": "2025-04-10T18:19:49.543001",
     "status": "completed"
    },
    "tags": []
   },
   "outputs": [],
   "source": [
    "#Creating and training CatBoost model\n",
    "model = CatBoostClassifier(\n",
    "    iterations=100,\n",
    "    eval_metric='Accuracy',  \n",
    "    verbose=0\n",
    ")\n",
    "\n",
    "model.fit(\n",
    "    X_train, y_train,\n",
    "    eval_set=[(X_test, y_test)],\n",
    "    cat_features=cat_cols.split(),\n",
    "    use_best_model=False,\n",
    "    verbose=0\n",
    ")\n",
    "\n",
    "#information about accuracy on each epoch for plots\n",
    "evals_result = model.evals_result_"
   ]
  },
  {
   "cell_type": "code",
   "execution_count": 12,
   "id": "34b2fe79",
   "metadata": {
    "execution": {
     "iopub.execute_input": "2025-04-10T18:19:50.212561Z",
     "iopub.status.busy": "2025-04-10T18:19:50.212212Z",
     "iopub.status.idle": "2025-04-10T18:19:50.456399Z",
     "shell.execute_reply": "2025-04-10T18:19:50.455425Z"
    },
    "papermill": {
     "duration": 0.251872,
     "end_time": "2025-04-10T18:19:50.457946",
     "exception": false,
     "start_time": "2025-04-10T18:19:50.206074",
     "status": "completed"
    },
    "tags": []
   },
   "outputs": [
    {
     "data": {
      "image/png": "[encoded data removed]",
      "text/plain": [
       "<Figure size 800x500 with 1 Axes>"
      ]
     },
     "metadata": {},
     "output_type": "display_data"
    }
   ],
   "source": [
    "#Accuracy on train and test plot\n",
    "plt.figure(figsize=(8, 5))\n",
    "plt.plot(evals_result['learn']['Accuracy'], label='Train Accuracy')\n",
    "plt.plot(evals_result['validation']['Accuracy'], label='Test Accuracy')\n",
    "plt.xlabel('Iteration')\n",
    "plt.ylabel('Accuracy')\n",
    "plt.title('CatBoost Accuracy on Train and Test')\n",
    "plt.legend()\n",
    "plt.grid()\n",
    "plt.tight_layout()\n",
    "plt.show()"
   ]
  },
  {
   "cell_type": "code",
   "execution_count": 13,
   "id": "7ca50a05",
   "metadata": {
    "execution": {
     "iopub.execute_input": "2025-04-10T18:19:50.471092Z",
     "iopub.status.busy": "2025-04-10T18:19:50.470727Z",
     "iopub.status.idle": "2025-04-10T18:19:50.481270Z",
     "shell.execute_reply": "2025-04-10T18:19:50.480293Z"
    },
    "papermill": {
     "duration": 0.019257,
     "end_time": "2025-04-10T18:19:50.483111",
     "exception": false,
     "start_time": "2025-04-10T18:19:50.463854",
     "status": "completed"
    },
    "tags": []
   },
   "outputs": [
    {
     "name": "stdout",
     "output_type": "stream",
     "text": [
      "accuracy is ', 0.9796\n"
     ]
    }
   ],
   "source": [
    "#Scoring accuracy on prediction X_test\n",
    "y_pred = model.predict(X_test)\n",
    "\n",
    "#Alternative form of accuracy on 0 / 1 classification\n",
    "accuracy = y_pred.sum() / y_test.sum()\n",
    "print(f\"accuracy is ', {accuracy:.4f}\")"
   ]
  },
  {
   "cell_type": "code",
   "execution_count": null,
   "id": "a74d725c",
   "metadata": {
    "papermill": {
     "duration": 0.005555,
     "end_time": "2025-04-10T18:19:50.495317",
     "exception": false,
     "start_time": "2025-04-10T18:19:50.489762",
     "status": "completed"
    },
    "tags": []
   },
   "outputs": [],
   "source": []
  }
 ],
 "metadata": {
  "kaggle": {
   "accelerator": "none",
   "dataSources": [
    {
     "datasetId": 6999922,
     "sourceId": 11216341,
     "sourceType": "datasetVersion"
    }
   ],
   "dockerImageVersionId": 31012,
   "isGpuEnabled": false,
   "isInternetEnabled": true,
   "language": "python",
   "sourceType": "notebook"
  },
  "kernelspec": {
   "display_name": "Python 3",
   "language": "python",
   "name": "python3"
  },
  "language_info": {
   "codemirror_mode": {
    "name": "ipython",
    "version": 3
   },
   "file_extension": ".py",
   "mimetype": "text/x-python",
   "name": "python",
   "nbconvert_exporter": "python",
   "pygments_lexer": "ipython3",
   "version": "3.11.11"
  },
  "papermill": {
   "default_parameters": {},
   "duration": 12.679238,
   "end_time": "2025-04-10T18:19:51.322147",
   "environment_variables": {},
   "exception": null,
   "input_path": "__notebook__.ipynb",
   "output_path": "__notebook__.ipynb",
   "parameters": {},
   "start_time": "2025-04-10T18:19:38.642909",
   "version": "2.6.0"
  }
 },
 "nbformat": 4,
 "nbformat_minor": 5
}
